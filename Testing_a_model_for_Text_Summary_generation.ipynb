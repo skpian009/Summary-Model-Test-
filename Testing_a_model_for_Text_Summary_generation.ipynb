{
  "nbformat": 4,
  "nbformat_minor": 0,
  "metadata": {
    "colab": {
      "provenance": [],
      "gpuType": "T4",
      "authorship_tag": "ABX9TyNYdHOdEmcSgW+87VmpaMeT",
      "include_colab_link": true
    },
    "kernelspec": {
      "name": "python3",
      "display_name": "Python 3"
    },
    "language_info": {
      "name": "python"
    },
    "accelerator": "GPU"
  },
  "cells": [
    {
      "cell_type": "markdown",
      "metadata": {
        "id": "view-in-github",
        "colab_type": "text"
      },
      "source": [
        "<a href=\"https://colab.research.google.com/github/skpian009/Summary-Model-Test-/blob/main/Testing_a_model_for_Text_Summary_generation.ipynb\" target=\"_parent\"><img src=\"https://colab.research.google.com/assets/colab-badge.svg\" alt=\"Open In Colab\"/></a>"
      ]
    },
    {
      "cell_type": "code",
      "execution_count": 4,
      "metadata": {
        "colab": {
          "base_uri": "https://localhost:8080/"
        },
        "id": "l8pYrRUrD4Hw",
        "outputId": "7c170864-a5f2-40f5-afe6-db771d6bc0cf"
      },
      "outputs": [
        {
          "output_type": "stream",
          "name": "stderr",
          "text": [
            "Hardware accelerator e.g. GPU is available in the environment, but no `device` argument is passed to the `Pipeline` object. Model will be on CPU.\n"
          ]
        },
        {
          "output_type": "stream",
          "name": "stdout",
          "text": [
            "[{'summary_text': 'pimples, or acne, are a common skin issue caused by clogged pores from oil, dead skin cells, and bacteria . while many turn to medications, natural remedies can be equally effective in treating and preventing pimple . here are simple and drug-free ways to clear your skin .'}]\n"
          ]
        }
      ],
      "source": [
        "# Import necessary libraries\n",
        "from transformers import pipeline\n",
        "\n",
        "# Load the summarization pipeline with the specified model\n",
        "pipe = pipeline(\"summarization\", model=\"Falconsai/medical_summarization\")\n",
        "\n"
      ]
    },
    {
      "cell_type": "markdown",
      "source": [],
      "metadata": {
        "id": "Yx0HvdSpEEiH"
      }
    },
    {
      "cell_type": "code",
      "source": [],
      "metadata": {
        "id": "-6kWqKlpD8sq"
      },
      "execution_count": null,
      "outputs": []
    }
  ]
}